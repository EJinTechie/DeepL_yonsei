{
 "cells": [
  {
   "cell_type": "code",
   "id": "initial_id",
   "metadata": {
    "collapsed": true,
    "ExecuteTime": {
     "end_time": "2024-11-25T01:35:15.389379Z",
     "start_time": "2024-11-25T01:35:15.376400Z"
    }
   },
   "source": [
    "import torch\n",
    "import torch.nn as nn\n",
    "import torch.optim as optim\n",
    "import pandas as pd\n",
    "import numpy as np\n",
    "from sklearn.model_selection import train_test_split\n",
    "from sklearn.preprocessing import StandardScaler, MinMaxScaler\n",
    "from torch.utils.data import Dataset, DataLoader\n"
   ],
   "outputs": [],
   "execution_count": 35
  },
  {
   "metadata": {
    "ExecuteTime": {
     "end_time": "2024-11-25T01:35:15.419587Z",
     "start_time": "2024-11-25T01:35:15.393369Z"
    }
   },
   "cell_type": "code",
   "source": [
    "class SpotifyDataset(Dataset):\n",
    "    def __init__(self, X, y):\n",
    "        self.X = torch.FloatTensor(X)\n",
    "        self.y = torch.FloatTensor(y)\n",
    "\n",
    "    def __len__(self):\n",
    "        return len(self.X)\n",
    "\n",
    "    def __getitem__(self, idx):\n",
    "        return self.X[idx], self.y[idx]\n",
    "\n",
    "class SpotifyRankPredictor(nn.Module):\n",
    "    def __init__(self):\n",
    "        super(SpotifyRankPredictor, self).__init__()\n",
    "        self.layers = nn.Sequential(\n",
    "            nn.Linear(8, 32),  # 입력층을 32로 줄임\n",
    "            nn.ReLU(),\n",
    "            nn.BatchNorm1d(32),\n",
    "            nn.Dropout(0.2),  # Dropout 비율을 0.2로 낮춤\n",
    "            nn.Linear(32, 16),\n",
    "            nn.ReLU(),\n",
    "            nn.BatchNorm1d(16),\n",
    "            nn.Linear(16, 1)\n",
    "        )\n",
    "\n",
    "    def forward(self, x):\n",
    "        return self.layers(x)"
   ],
   "id": "bfeb3bf9ec46e9be",
   "outputs": [],
   "execution_count": 36
  },
  {
   "metadata": {
    "ExecuteTime": {
     "end_time": "2024-11-25T01:35:15.449500Z",
     "start_time": "2024-11-25T01:35:15.438693Z"
    }
   },
   "cell_type": "code",
   "source": [
    "def preprocess_data(df):\n",
    "    # Features and target\n",
    "    X = df[['Danceability', 'Energy', 'Loudness', 'Speechiness',\n",
    "            'Acousticness', 'Liveness', 'Tempo', 'Duration (ms)']].values\n",
    "    y = df['Highest Charting Position'].values\n",
    "\n",
    "    scaler = MinMaxScaler()\n",
    "    X_scaled = scaler.fit_transform(X)\n",
    "    y_scaler = MinMaxScaler()\n",
    "    y_scaled = y_scaler.fit_transform(y.reshape(-1, 1)).flatten()\n",
    "\n",
    "    return X_scaled, y_scaled,y_scaler"
   ],
   "id": "ec818e3d214c56b5",
   "outputs": [],
   "execution_count": 37
  },
  {
   "metadata": {
    "ExecuteTime": {
     "end_time": "2024-11-25T01:35:15.479860Z",
     "start_time": "2024-11-25T01:35:15.466460Z"
    }
   },
   "cell_type": "code",
   "source": [
    "def train_model(model, train_loader, val_loader, criterion, optimizer,\n",
    "                num_epochs=100, patience=10):\n",
    "    device = torch.device('cuda' if torch.cuda.is_available() else 'cpu')\n",
    "    model = model.to(device)\n",
    "\n",
    "    best_val_loss = float('inf')\n",
    "    patience_counter = 0\n",
    "    train_losses = []\n",
    "    val_losses = []\n",
    "\n",
    "    for epoch in range(num_epochs):\n",
    "        model.train()\n",
    "        train_loss = 0\n",
    "        for X_batch, y_batch in train_loader:\n",
    "            X_batch, y_batch = X_batch.to(device), y_batch.to(device)\n",
    "\n",
    "            optimizer.zero_grad()\n",
    "            outputs = model(X_batch)\n",
    "            loss = criterion(outputs, y_batch.view(-1, 1))\n",
    "            loss.backward()\n",
    "            optimizer.step()\n",
    "\n",
    "            train_loss += loss.item()\n",
    "\n",
    "        train_loss /= len(train_loader)\n",
    "        train_losses.append(train_loss)\n",
    "\n",
    "        model.eval()\n",
    "        val_loss = 0\n",
    "        with torch.no_grad():\n",
    "            for X_batch, y_batch in val_loader:\n",
    "                X_batch, y_batch = X_batch.to(device), y_batch.to(device)\n",
    "                outputs = model(X_batch)\n",
    "                loss = criterion(outputs, y_batch.view(-1, 1))\n",
    "                val_loss += loss.item()\n",
    "\n",
    "        val_loss /= len(val_loader)\n",
    "        val_losses.append(val_loss)\n",
    "\n",
    "        print(f'Epoch [{epoch+1}/{num_epochs}], Train Loss: {train_loss:.4f}, Val Loss: {val_loss:.4f}')\n",
    "\n",
    "        if val_loss < best_val_loss:\n",
    "            best_val_loss = val_loss\n",
    "            patience_counter = 0\n",
    "            torch.save(model.state_dict(), 'best_model.pth')\n",
    "        else:\n",
    "            patience_counter += 1\n",
    "            if patience_counter >= patience:\n",
    "                print('Early stopping triggered')\n",
    "                break\n",
    "\n",
    "    return train_losses, val_losses"
   ],
   "id": "a481aa6b9ffbe221",
   "outputs": [],
   "execution_count": 38
  },
  {
   "metadata": {
    "ExecuteTime": {
     "end_time": "2024-11-25T01:35:17.634014Z",
     "start_time": "2024-11-25T01:35:15.496853Z"
    }
   },
   "cell_type": "code",
   "source": [
    "def main():\n",
    "    df = pd.read_csv('spotify_dataset.csv')\n",
    "    X_scaled, y_scaled, y_scaler = preprocess_data(df)\n",
    "\n",
    "    X_train, X_temp, y_train, y_temp = train_test_split(X_scaled, y_scaled, test_size=0.2, random_state=42)\n",
    "    X_val, X_test, y_val, y_test = train_test_split(X_temp, y_temp, test_size=0.5, random_state=42)\n",
    "\n",
    "    train_dataset = SpotifyDataset(X_train, y_train)\n",
    "    val_dataset = SpotifyDataset(X_val, y_val)\n",
    "    test_dataset = SpotifyDataset(X_test, y_test)\n",
    "\n",
    "    batch_size = 32\n",
    "    train_loader = DataLoader(train_dataset, batch_size=batch_size, shuffle=True)\n",
    "    val_loader = DataLoader(val_dataset, batch_size=batch_size)\n",
    "    test_loader = DataLoader(test_dataset, batch_size=batch_size)\n",
    "\n",
    "    model = SpotifyRankPredictor()\n",
    "    criterion = nn.MSELoss()\n",
    "    optimizer = optim.Adam(model.parameters(), lr=0.0005, weight_decay=0.0001)\n",
    "\n",
    "\n",
    "    train_losses, val_losses = train_model(\n",
    "        model=model,\n",
    "        train_loader=train_loader,\n",
    "        val_loader=val_loader,\n",
    "        criterion=criterion,\n",
    "        optimizer=optimizer,\n",
    "        num_epochs=100,\n",
    "        patience=10\n",
    "    )\n",
    "\n",
    "\n",
    "    model.load_state_dict(torch.load('best_model.pth'))\n",
    "    model.eval()\n",
    "    test_loss = 0\n",
    "    predictions = []\n",
    "    actuals = []\n",
    "\n",
    "    with torch.no_grad():\n",
    "        for X_batch, y_batch in test_loader:\n",
    "            outputs = model(X_batch)\n",
    "            test_loss += criterion(outputs, y_batch.view(-1, 1)).item()\n",
    "            predictions.extend(outputs.numpy().flatten())\n",
    "            actuals.extend(y_batch.numpy())\n",
    "\n",
    "    test_loss /= len(test_loader)\n",
    "    print(f'Test Loss: {test_loss:.4f}')\n",
    "\n",
    "\n",
    "    predictions = y_scaler.inverse_transform(np.array(predictions).reshape(-1, 1)).flatten()\n",
    "    actuals = y_scaler.inverse_transform(np.array(actuals).reshape(-1, 1)).flatten()\n",
    "\n",
    "\n",
    "    r2 = 1 - np.sum((actuals - predictions) ** 2) / np.sum((actuals - np.mean(actuals)) ** 2)\n",
    "    print(f'R-squared: {r2:.4f}')\n",
    "\n",
    "if __name__ == \"__main__\":\n",
    "    main()"
   ],
   "id": "523e2a81871cdeda",
   "outputs": [
    {
     "name": "stdout",
     "output_type": "stream",
     "text": [
      "Epoch [1/100], Train Loss: 0.6314, Val Loss: 0.3815\n",
      "Epoch [2/100], Train Loss: 0.4150, Val Loss: 0.4042\n",
      "Epoch [3/100], Train Loss: 0.3363, Val Loss: 0.3238\n",
      "Epoch [4/100], Train Loss: 0.2672, Val Loss: 0.2605\n",
      "Epoch [5/100], Train Loss: 0.2185, Val Loss: 0.2010\n",
      "Epoch [6/100], Train Loss: 0.1766, Val Loss: 0.1659\n",
      "Epoch [7/100], Train Loss: 0.1426, Val Loss: 0.1381\n",
      "Epoch [8/100], Train Loss: 0.1243, Val Loss: 0.1231\n",
      "Epoch [9/100], Train Loss: 0.1156, Val Loss: 0.1151\n",
      "Epoch [10/100], Train Loss: 0.1053, Val Loss: 0.1069\n",
      "Epoch [11/100], Train Loss: 0.1038, Val Loss: 0.1015\n",
      "Epoch [12/100], Train Loss: 0.0990, Val Loss: 0.0988\n",
      "Epoch [13/100], Train Loss: 0.0960, Val Loss: 0.0985\n",
      "Epoch [14/100], Train Loss: 0.0931, Val Loss: 0.0973\n",
      "Epoch [15/100], Train Loss: 0.0901, Val Loss: 0.0979\n",
      "Epoch [16/100], Train Loss: 0.0937, Val Loss: 0.0960\n",
      "Epoch [17/100], Train Loss: 0.0909, Val Loss: 0.0939\n",
      "Epoch [18/100], Train Loss: 0.0904, Val Loss: 0.0956\n",
      "Epoch [19/100], Train Loss: 0.0929, Val Loss: 0.0952\n",
      "Epoch [20/100], Train Loss: 0.0908, Val Loss: 0.0950\n",
      "Epoch [21/100], Train Loss: 0.0867, Val Loss: 0.0936\n",
      "Epoch [22/100], Train Loss: 0.0876, Val Loss: 0.0928\n",
      "Epoch [23/100], Train Loss: 0.0866, Val Loss: 0.0930\n",
      "Epoch [24/100], Train Loss: 0.0878, Val Loss: 0.0939\n",
      "Epoch [25/100], Train Loss: 0.0886, Val Loss: 0.0940\n",
      "Epoch [26/100], Train Loss: 0.0859, Val Loss: 0.0980\n",
      "Epoch [27/100], Train Loss: 0.0873, Val Loss: 0.0936\n",
      "Epoch [28/100], Train Loss: 0.0855, Val Loss: 0.0936\n",
      "Epoch [29/100], Train Loss: 0.0862, Val Loss: 0.0941\n",
      "Epoch [30/100], Train Loss: 0.0857, Val Loss: 0.0945\n",
      "Epoch [31/100], Train Loss: 0.0863, Val Loss: 0.0936\n",
      "Epoch [32/100], Train Loss: 0.0848, Val Loss: 0.0930\n",
      "Early stopping triggered\n",
      "Test Loss: 0.1022\n",
      "R-squared: -0.0812\n"
     ]
    },
    {
     "name": "stderr",
     "output_type": "stream",
     "text": [
      "C:\\Users\\이강민\\AppData\\Local\\Temp\\ipykernel_14496\\83234436.py:33: FutureWarning: You are using `torch.load` with `weights_only=False` (the current default value), which uses the default pickle module implicitly. It is possible to construct malicious pickle data which will execute arbitrary code during unpickling (See https://github.com/pytorch/pytorch/blob/main/SECURITY.md#untrusted-models for more details). In a future release, the default value for `weights_only` will be flipped to `True`. This limits the functions that could be executed during unpickling. Arbitrary objects will no longer be allowed to be loaded via this mode unless they are explicitly allowlisted by the user via `torch.serialization.add_safe_globals`. We recommend you start setting `weights_only=True` for any use case where you don't have full control of the loaded file. Please open an issue on GitHub for any issues related to this experimental feature.\n",
      "  model.load_state_dict(torch.load('best_model.pth'))\n"
     ]
    }
   ],
   "execution_count": 39
  }
 ],
 "metadata": {
  "kernelspec": {
   "display_name": "Python 3",
   "language": "python",
   "name": "python3"
  },
  "language_info": {
   "codemirror_mode": {
    "name": "ipython",
    "version": 2
   },
   "file_extension": ".py",
   "mimetype": "text/x-python",
   "name": "python",
   "nbconvert_exporter": "python",
   "pygments_lexer": "ipython2",
   "version": "2.7.6"
  }
 },
 "nbformat": 4,
 "nbformat_minor": 5
}
